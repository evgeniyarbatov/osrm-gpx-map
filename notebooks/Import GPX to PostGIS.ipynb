{
 "cells": [
  {
   "cell_type": "code",
   "execution_count": 1,
   "id": "f0c81d2b",
   "metadata": {},
   "outputs": [],
   "source": [
    "import gpxpy\n",
    "import psycopg2"
   ]
  },
  {
   "cell_type": "code",
   "execution_count": 2,
   "id": "af7b5856",
   "metadata": {},
   "outputs": [],
   "source": [
    "filename = '11398719881.gpx'"
   ]
  },
  {
   "cell_type": "code",
   "execution_count": 3,
   "id": "867918f5",
   "metadata": {},
   "outputs": [],
   "source": [
    "with open('../data/'+ filename, 'r') as gpx_file:\n",
    "    gpx = gpxpy.parse(gpx_file)"
   ]
  },
  {
   "cell_type": "code",
   "execution_count": 4,
   "id": "bf7e625a",
   "metadata": {},
   "outputs": [],
   "source": [
    "gpx_points = []\n",
    "for track in gpx.tracks:\n",
    "    for segment in track.segments:\n",
    "        for point in segment.points:\n",
    "            gpx_points.append((point.latitude, point.longitude))"
   ]
  },
  {
   "cell_type": "code",
   "execution_count": 8,
   "id": "33233ee1",
   "metadata": {},
   "outputs": [],
   "source": [
    "conn = psycopg2.connect(\n",
    "    host=\"localhost\",\n",
    "    database=\"gpx\",\n",
    "    user=\"root\",\n",
    "    password=\"root\"\n",
    ")"
   ]
  },
  {
   "cell_type": "code",
   "execution_count": 9,
   "id": "6f6d8b31",
   "metadata": {},
   "outputs": [],
   "source": [
    "cursor = conn.cursor()"
   ]
  },
  {
   "cell_type": "code",
   "execution_count": 10,
   "id": "6a8a2625",
   "metadata": {},
   "outputs": [],
   "source": [
    "create_table_query = \"\"\"\n",
    "DROP TABLE IF EXISTS gpx_points;\n",
    "\n",
    "CREATE TABLE IF NOT EXISTS gpx_points (\n",
    "    id SERIAL PRIMARY KEY,\n",
    "    filename TEXT,\n",
    "    latitude DOUBLE PRECISION,\n",
    "    longitude DOUBLE PRECISION,\n",
    "    location GEOGRAPHY(POINT, 4326)\n",
    ");\n",
    "\"\"\"\n",
    "cursor.execute(create_table_query)"
   ]
  },
  {
   "cell_type": "code",
   "execution_count": 11,
   "id": "fcea0aad",
   "metadata": {},
   "outputs": [],
   "source": [
    "try:\n",
    "    for point in gpx_points:\n",
    "        latitude, longitude = point\n",
    "        cursor.execute(\"\"\"\n",
    "            INSERT INTO gpx_points (filename, latitude, longitude, location)\n",
    "            VALUES (%s, %s, %s, ST_SetSRID(ST_MakePoint(%s, %s), 4326))\n",
    "        \"\"\", (filename, latitude, longitude, longitude, latitude))      \n",
    "    conn.commit()\n",
    "except:\n",
    "    conn.rollback()"
   ]
  },
  {
   "cell_type": "code",
   "execution_count": null,
   "id": "cbc01cbf",
   "metadata": {},
   "outputs": [],
   "source": []
  }
 ],
 "metadata": {
  "kernelspec": {
   "display_name": "Python 3 (ipykernel)",
   "language": "python",
   "name": "python3"
  },
  "language_info": {
   "codemirror_mode": {
    "name": "ipython",
    "version": 3
   },
   "file_extension": ".py",
   "mimetype": "text/x-python",
   "name": "python",
   "nbconvert_exporter": "python",
   "pygments_lexer": "ipython3",
   "version": "3.11.9"
  }
 },
 "nbformat": 4,
 "nbformat_minor": 5
}
